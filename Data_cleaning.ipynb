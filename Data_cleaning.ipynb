{
 "cells": [
  {
   "cell_type": "code",
   "execution_count": 2,
   "id": "21f9381e",
   "metadata": {},
   "outputs": [],
   "source": [
    "import pandas as pd\n",
    "import matplotlib.pyplot as plt\n",
    "import numpy as np \n",
    "import seaborn as sns\n",
    "from scipy import stats "
   ]
  },
  {
   "cell_type": "markdown",
   "id": "421f4782",
   "metadata": {},
   "source": [
    "### Import data frame "
   ]
  },
  {
   "cell_type": "code",
   "execution_count": 19,
   "id": "7372cfec",
   "metadata": {},
   "outputs": [
    {
     "data": {
      "text/html": [
       "<div>\n",
       "<style scoped>\n",
       "    .dataframe tbody tr th:only-of-type {\n",
       "        vertical-align: middle;\n",
       "    }\n",
       "\n",
       "    .dataframe tbody tr th {\n",
       "        vertical-align: top;\n",
       "    }\n",
       "\n",
       "    .dataframe thead th {\n",
       "        text-align: right;\n",
       "    }\n",
       "</style>\n",
       "<table border=\"1\" class=\"dataframe\">\n",
       "  <thead>\n",
       "    <tr style=\"text-align: right;\">\n",
       "      <th></th>\n",
       "      <th>Exports</th>\n",
       "      <th>FCE</th>\n",
       "      <th>GDP</th>\n",
       "      <th>G_F_C_E</th>\n",
       "      <th>D_Savings</th>\n",
       "      <th>G_Savings</th>\n",
       "      <th>Imports</th>\n",
       "      <th>Inflation</th>\n",
       "      <th>Remittances</th>\n",
       "      <th>U</th>\n",
       "      <th>Reserve</th>\n",
       "      <th>Industry</th>\n",
       "    </tr>\n",
       "    <tr>\n",
       "      <th>Year</th>\n",
       "      <th></th>\n",
       "      <th></th>\n",
       "      <th></th>\n",
       "      <th></th>\n",
       "      <th></th>\n",
       "      <th></th>\n",
       "      <th></th>\n",
       "      <th></th>\n",
       "      <th></th>\n",
       "      <th></th>\n",
       "      <th></th>\n",
       "      <th></th>\n",
       "    </tr>\n",
       "  </thead>\n",
       "  <tbody>\n",
       "    <tr>\n",
       "      <th>1980</th>\n",
       "      <td>5.49</td>\n",
       "      <td>97.95</td>\n",
       "      <td>0.82</td>\n",
       "      <td>6.14</td>\n",
       "      <td>2.05</td>\n",
       "      <td>8.33</td>\n",
       "      <td>17.88</td>\n",
       "      <td>17.56</td>\n",
       "      <td>1.87</td>\n",
       "      <td>NaN</td>\n",
       "      <td>8.71</td>\n",
       "      <td>20.12</td>\n",
       "    </tr>\n",
       "    <tr>\n",
       "      <th>1981</th>\n",
       "      <td>5.13</td>\n",
       "      <td>85.16</td>\n",
       "      <td>7.23</td>\n",
       "      <td>4.39</td>\n",
       "      <td>14.84</td>\n",
       "      <td>21.14</td>\n",
       "      <td>14.12</td>\n",
       "      <td>9.89</td>\n",
       "      <td>1.88</td>\n",
       "      <td>NaN</td>\n",
       "      <td>3.79</td>\n",
       "      <td>19.81</td>\n",
       "    </tr>\n",
       "    <tr>\n",
       "      <th>1982</th>\n",
       "      <td>5.08</td>\n",
       "      <td>85.22</td>\n",
       "      <td>2.13</td>\n",
       "      <td>4.43</td>\n",
       "      <td>14.78</td>\n",
       "      <td>23.53</td>\n",
       "      <td>15.53</td>\n",
       "      <td>9.86</td>\n",
       "      <td>2.84</td>\n",
       "      <td>NaN</td>\n",
       "      <td>4.22</td>\n",
       "      <td>20.04</td>\n",
       "    </tr>\n",
       "    <tr>\n",
       "      <th>1983</th>\n",
       "      <td>5.60</td>\n",
       "      <td>87.95</td>\n",
       "      <td>3.88</td>\n",
       "      <td>4.31</td>\n",
       "      <td>12.05</td>\n",
       "      <td>23.10</td>\n",
       "      <td>14.71</td>\n",
       "      <td>8.49</td>\n",
       "      <td>3.65</td>\n",
       "      <td>NaN</td>\n",
       "      <td>10.21</td>\n",
       "      <td>20.87</td>\n",
       "    </tr>\n",
       "    <tr>\n",
       "      <th>1984</th>\n",
       "      <td>3.40</td>\n",
       "      <td>93.22</td>\n",
       "      <td>4.80</td>\n",
       "      <td>4.34</td>\n",
       "      <td>6.78</td>\n",
       "      <td>16.29</td>\n",
       "      <td>13.42</td>\n",
       "      <td>7.88</td>\n",
       "      <td>2.65</td>\n",
       "      <td>2.04</td>\n",
       "      <td>7.36</td>\n",
       "      <td>21.43</td>\n",
       "    </tr>\n",
       "  </tbody>\n",
       "</table>\n",
       "</div>"
      ],
      "text/plain": [
       "      Exports    FCE   GDP  G_F_C_E  D_Savings  G_Savings  Imports  Inflation  \\\n",
       "Year                                                                            \n",
       "1980     5.49  97.95  0.82     6.14       2.05       8.33    17.88      17.56   \n",
       "1981     5.13  85.16  7.23     4.39      14.84      21.14    14.12       9.89   \n",
       "1982     5.08  85.22  2.13     4.43      14.78      23.53    15.53       9.86   \n",
       "1983     5.60  87.95  3.88     4.31      12.05      23.10    14.71       8.49   \n",
       "1984     3.40  93.22  4.80     4.34       6.78      16.29    13.42       7.88   \n",
       "\n",
       "      Remittances     U  Reserve  Industry  \n",
       "Year                                        \n",
       "1980         1.87   NaN     8.71     20.12  \n",
       "1981         1.88   NaN     3.79     19.81  \n",
       "1982         2.84   NaN     4.22     20.04  \n",
       "1983         3.65   NaN    10.21     20.87  \n",
       "1984         2.65  2.04     7.36     21.43  "
      ]
     },
     "execution_count": 19,
     "metadata": {},
     "output_type": "execute_result"
    }
   ],
   "source": [
    "df=pd.read_csv(\"GDP_data.csv\")\n",
    "#df_pd.rename(columns={'GDP growth':\"GDP\"},inplace=True)\n",
    "df.rename(columns={'Time':'Year'},inplace=True)\n",
    "df=df.set_index('Year')\n",
    "# df.index=pd.to_year(df.index)\n",
    "df.head()"
   ]
  },
  {
   "cell_type": "code",
   "execution_count": null,
   "id": "291d5ca6-61cf-49be-b6ec-7762257e0a03",
   "metadata": {},
   "outputs": [],
   "source": []
  },
  {
   "cell_type": "code",
   "execution_count": 5,
   "id": "95ddc98b",
   "metadata": {
    "scrolled": true
   },
   "outputs": [
    {
     "data": {
      "text/html": [
       "<div>\n",
       "<style scoped>\n",
       "    .dataframe tbody tr th:only-of-type {\n",
       "        vertical-align: middle;\n",
       "    }\n",
       "\n",
       "    .dataframe tbody tr th {\n",
       "        vertical-align: top;\n",
       "    }\n",
       "\n",
       "    .dataframe thead th {\n",
       "        text-align: right;\n",
       "    }\n",
       "</style>\n",
       "<table border=\"1\" class=\"dataframe\">\n",
       "  <thead>\n",
       "    <tr style=\"text-align: right;\">\n",
       "      <th></th>\n",
       "      <th>Year</th>\n",
       "      <th>Exports</th>\n",
       "      <th>FCE</th>\n",
       "      <th>GDP</th>\n",
       "      <th>G_F_C_E</th>\n",
       "      <th>D_Savings</th>\n",
       "      <th>G_Savings</th>\n",
       "      <th>Imports</th>\n",
       "      <th>Inflation</th>\n",
       "      <th>Remittances</th>\n",
       "      <th>U</th>\n",
       "      <th>Reserve</th>\n",
       "      <th>Industry</th>\n",
       "    </tr>\n",
       "  </thead>\n",
       "  <tbody>\n",
       "    <tr>\n",
       "      <th>0</th>\n",
       "      <td>1980</td>\n",
       "      <td>5.49</td>\n",
       "      <td>97.95</td>\n",
       "      <td>0.82</td>\n",
       "      <td>6.14</td>\n",
       "      <td>2.05</td>\n",
       "      <td>8.33</td>\n",
       "      <td>17.88</td>\n",
       "      <td>17.56</td>\n",
       "      <td>1.87</td>\n",
       "      <td>3.38</td>\n",
       "      <td>8.71</td>\n",
       "      <td>20.12</td>\n",
       "    </tr>\n",
       "    <tr>\n",
       "      <th>1</th>\n",
       "      <td>1981</td>\n",
       "      <td>5.13</td>\n",
       "      <td>85.16</td>\n",
       "      <td>7.23</td>\n",
       "      <td>4.39</td>\n",
       "      <td>14.84</td>\n",
       "      <td>21.14</td>\n",
       "      <td>14.12</td>\n",
       "      <td>9.89</td>\n",
       "      <td>1.88</td>\n",
       "      <td>3.38</td>\n",
       "      <td>3.79</td>\n",
       "      <td>19.81</td>\n",
       "    </tr>\n",
       "    <tr>\n",
       "      <th>2</th>\n",
       "      <td>1982</td>\n",
       "      <td>5.08</td>\n",
       "      <td>85.22</td>\n",
       "      <td>2.13</td>\n",
       "      <td>4.43</td>\n",
       "      <td>14.78</td>\n",
       "      <td>23.53</td>\n",
       "      <td>15.53</td>\n",
       "      <td>9.86</td>\n",
       "      <td>2.84</td>\n",
       "      <td>3.38</td>\n",
       "      <td>4.22</td>\n",
       "      <td>20.04</td>\n",
       "    </tr>\n",
       "    <tr>\n",
       "      <th>3</th>\n",
       "      <td>1983</td>\n",
       "      <td>5.60</td>\n",
       "      <td>87.95</td>\n",
       "      <td>3.88</td>\n",
       "      <td>4.31</td>\n",
       "      <td>12.05</td>\n",
       "      <td>23.10</td>\n",
       "      <td>14.71</td>\n",
       "      <td>8.49</td>\n",
       "      <td>3.65</td>\n",
       "      <td>3.38</td>\n",
       "      <td>10.21</td>\n",
       "      <td>20.87</td>\n",
       "    </tr>\n",
       "    <tr>\n",
       "      <th>4</th>\n",
       "      <td>1984</td>\n",
       "      <td>3.40</td>\n",
       "      <td>93.22</td>\n",
       "      <td>4.80</td>\n",
       "      <td>4.34</td>\n",
       "      <td>6.78</td>\n",
       "      <td>16.29</td>\n",
       "      <td>13.42</td>\n",
       "      <td>7.88</td>\n",
       "      <td>2.65</td>\n",
       "      <td>2.04</td>\n",
       "      <td>7.36</td>\n",
       "      <td>21.43</td>\n",
       "    </tr>\n",
       "  </tbody>\n",
       "</table>\n",
       "</div>"
      ],
      "text/plain": [
       "   Year  Exports    FCE   GDP  G_F_C_E  D_Savings  G_Savings  Imports  \\\n",
       "0  1980     5.49  97.95  0.82     6.14       2.05       8.33    17.88   \n",
       "1  1981     5.13  85.16  7.23     4.39      14.84      21.14    14.12   \n",
       "2  1982     5.08  85.22  2.13     4.43      14.78      23.53    15.53   \n",
       "3  1983     5.60  87.95  3.88     4.31      12.05      23.10    14.71   \n",
       "4  1984     3.40  93.22  4.80     4.34       6.78      16.29    13.42   \n",
       "\n",
       "   Inflation  Remittances     U  Reserve  Industry  \n",
       "0      17.56         1.87  3.38     8.71     20.12  \n",
       "1       9.89         1.88  3.38     3.79     19.81  \n",
       "2       9.86         2.84  3.38     4.22     20.04  \n",
       "3       8.49         3.65  3.38    10.21     20.87  \n",
       "4       7.88         2.65  2.04     7.36     21.43  "
      ]
     },
     "execution_count": 5,
     "metadata": {},
     "output_type": "execute_result"
    }
   ],
   "source": [
    "\n",
    "df.shape\n",
    "# df[\"FDIO\"].fillna(0,inplace=True)\n",
    "# G_F_C_E fill null by the mean\n",
    "\n",
    "x=df[\"G_F_C_E\"].mean()\n",
    "df[\"G_F_C_E\"].fillna(x,inplace=True)\n",
    "## G_Savings null values replace by their mean\n",
    "x=df[\"G_Savings\"].mean()\n",
    "df[\"G_Savings\"].fillna(x,inplace=True)\n",
    "x=df[\"Remittances\"].min()\n",
    "df[\"Remittances\"].fillna(x,inplace=True)\n",
    "\n",
    "#Reserve\treplace null value by mean value\n",
    "x=df[\"Reserve\"].mean()\n",
    "df[\"Reserve\"].fillna(x,inplace=True)\n",
    "#Stocks null value replace by mean value\n",
    "x=df[\"U\"].median()\n",
    "df[\"U\"].fillna(x,inplace=True)\n",
    "#Foregin direct investment inflow\n",
    "# df[\"FDII\"].fillna(0,inplace=True)\n",
    "\n",
    "df.head(5)"
   ]
  },
  {
   "cell_type": "code",
   "execution_count": 6,
   "id": "c0be142c",
   "metadata": {},
   "outputs": [
    {
     "data": {
      "text/plain": [
       "Index(['Year', 'Exports', 'FCE', 'GDP', 'G_F_C_E', 'D_Savings', 'G_Savings',\n",
       "       'Imports', 'Inflation', 'Remittances', 'U', 'Reserve', 'Industry'],\n",
       "      dtype='object')"
      ]
     },
     "execution_count": 6,
     "metadata": {},
     "output_type": "execute_result"
    }
   ],
   "source": [
    "#Correlation matrix\n",
    "df = round(df,2)\n",
    "df\n",
    "df.columns\n"
   ]
  },
  {
   "cell_type": "code",
   "execution_count": 7,
   "id": "e07c379a-b5ed-4910-a76d-4f0297026ebc",
   "metadata": {},
   "outputs": [
    {
     "data": {
      "text/html": [
       "<div>\n",
       "<style scoped>\n",
       "    .dataframe tbody tr th:only-of-type {\n",
       "        vertical-align: middle;\n",
       "    }\n",
       "\n",
       "    .dataframe tbody tr th {\n",
       "        vertical-align: top;\n",
       "    }\n",
       "\n",
       "    .dataframe thead th {\n",
       "        text-align: right;\n",
       "    }\n",
       "</style>\n",
       "<table border=\"1\" class=\"dataframe\">\n",
       "  <thead>\n",
       "    <tr style=\"text-align: right;\">\n",
       "      <th></th>\n",
       "      <th>Exports</th>\n",
       "      <th>FCE</th>\n",
       "      <th>GDP</th>\n",
       "      <th>G_F_C_E</th>\n",
       "      <th>D_Savings</th>\n",
       "      <th>G_Savings</th>\n",
       "      <th>Imports</th>\n",
       "      <th>Inflation</th>\n",
       "      <th>Remittances</th>\n",
       "      <th>U</th>\n",
       "      <th>Reserve</th>\n",
       "      <th>Industry</th>\n",
       "    </tr>\n",
       "  </thead>\n",
       "  <tbody>\n",
       "    <tr>\n",
       "      <th>0</th>\n",
       "      <td>0.124702</td>\n",
       "      <td>1.000000</td>\n",
       "      <td>0.000000</td>\n",
       "      <td>0.954751</td>\n",
       "      <td>0.000000</td>\n",
       "      <td>0.000000</td>\n",
       "      <td>0.380308</td>\n",
       "      <td>0.628386</td>\n",
       "      <td>0.000000</td>\n",
       "      <td>0.602941</td>\n",
       "      <td>0.066576</td>\n",
       "      <td>0.036313</td>\n",
       "    </tr>\n",
       "    <tr>\n",
       "      <th>1</th>\n",
       "      <td>0.103222</td>\n",
       "      <td>0.492863</td>\n",
       "      <td>0.907932</td>\n",
       "      <td>0.162896</td>\n",
       "      <td>0.507137</td>\n",
       "      <td>0.396963</td>\n",
       "      <td>0.148923</td>\n",
       "      <td>0.351390</td>\n",
       "      <td>0.001147</td>\n",
       "      <td>0.602941</td>\n",
       "      <td>0.000000</td>\n",
       "      <td>0.014665</td>\n",
       "    </tr>\n",
       "    <tr>\n",
       "      <th>2</th>\n",
       "      <td>0.100239</td>\n",
       "      <td>0.495242</td>\n",
       "      <td>0.185552</td>\n",
       "      <td>0.180995</td>\n",
       "      <td>0.504758</td>\n",
       "      <td>0.471026</td>\n",
       "      <td>0.235692</td>\n",
       "      <td>0.350307</td>\n",
       "      <td>0.111239</td>\n",
       "      <td>0.602941</td>\n",
       "      <td>0.005819</td>\n",
       "      <td>0.030726</td>\n",
       "    </tr>\n",
       "    <tr>\n",
       "      <th>3</th>\n",
       "      <td>0.131265</td>\n",
       "      <td>0.603489</td>\n",
       "      <td>0.433428</td>\n",
       "      <td>0.126697</td>\n",
       "      <td>0.396511</td>\n",
       "      <td>0.457701</td>\n",
       "      <td>0.185231</td>\n",
       "      <td>0.300831</td>\n",
       "      <td>0.204128</td>\n",
       "      <td>0.602941</td>\n",
       "      <td>0.086874</td>\n",
       "      <td>0.088687</td>\n",
       "    </tr>\n",
       "    <tr>\n",
       "      <th>4</th>\n",
       "      <td>0.000000</td>\n",
       "      <td>0.812450</td>\n",
       "      <td>0.563739</td>\n",
       "      <td>0.140271</td>\n",
       "      <td>0.187550</td>\n",
       "      <td>0.246669</td>\n",
       "      <td>0.105846</td>\n",
       "      <td>0.278801</td>\n",
       "      <td>0.089450</td>\n",
       "      <td>0.274510</td>\n",
       "      <td>0.048309</td>\n",
       "      <td>0.127793</td>\n",
       "    </tr>\n",
       "  </tbody>\n",
       "</table>\n",
       "</div>"
      ],
      "text/plain": [
       "    Exports       FCE       GDP   G_F_C_E  D_Savings  G_Savings   Imports  \\\n",
       "0  0.124702  1.000000  0.000000  0.954751   0.000000   0.000000  0.380308   \n",
       "1  0.103222  0.492863  0.907932  0.162896   0.507137   0.396963  0.148923   \n",
       "2  0.100239  0.495242  0.185552  0.180995   0.504758   0.471026  0.235692   \n",
       "3  0.131265  0.603489  0.433428  0.126697   0.396511   0.457701  0.185231   \n",
       "4  0.000000  0.812450  0.563739  0.140271   0.187550   0.246669  0.105846   \n",
       "\n",
       "   Inflation  Remittances         U   Reserve  Industry  \n",
       "0   0.628386     0.000000  0.602941  0.066576  0.036313  \n",
       "1   0.351390     0.001147  0.602941  0.000000  0.014665  \n",
       "2   0.350307     0.111239  0.602941  0.005819  0.030726  \n",
       "3   0.300831     0.204128  0.602941  0.086874  0.088687  \n",
       "4   0.278801     0.089450  0.274510  0.048309  0.127793  "
      ]
     },
     "execution_count": 7,
     "metadata": {},
     "output_type": "execute_result"
    }
   ],
   "source": [
    "\n",
    "data=df.drop('Year',axis=1)\n",
    "df_norm=(data-data.min())/(data.max()-data.min())\n",
    "# df=pd.concat(df_norm)\n",
    "df_norm.head()\n",
    "\n"
   ]
  },
  {
   "cell_type": "code",
   "execution_count": 8,
   "id": "e0c6b0ee-8a8c-48d7-9cde-8f892102c464",
   "metadata": {},
   "outputs": [
    {
     "data": {
      "text/html": [
       "<div>\n",
       "<style scoped>\n",
       "    .dataframe tbody tr th:only-of-type {\n",
       "        vertical-align: middle;\n",
       "    }\n",
       "\n",
       "    .dataframe tbody tr th {\n",
       "        vertical-align: top;\n",
       "    }\n",
       "\n",
       "    .dataframe thead th {\n",
       "        text-align: right;\n",
       "    }\n",
       "</style>\n",
       "<table border=\"1\" class=\"dataframe\">\n",
       "  <thead>\n",
       "    <tr style=\"text-align: right;\">\n",
       "      <th></th>\n",
       "      <th>Exports</th>\n",
       "      <th>FCE</th>\n",
       "      <th>GDP</th>\n",
       "      <th>G_F_C_E</th>\n",
       "      <th>D_Savings</th>\n",
       "      <th>G_Savings</th>\n",
       "      <th>Imports</th>\n",
       "      <th>Inflation</th>\n",
       "      <th>Remittances</th>\n",
       "      <th>U</th>\n",
       "      <th>Reserve</th>\n",
       "      <th>Industry</th>\n",
       "      <th>Year</th>\n",
       "    </tr>\n",
       "  </thead>\n",
       "  <tbody>\n",
       "    <tr>\n",
       "      <th>0</th>\n",
       "      <td>0.124702</td>\n",
       "      <td>1.000000</td>\n",
       "      <td>0.000000</td>\n",
       "      <td>0.954751</td>\n",
       "      <td>0.000000</td>\n",
       "      <td>0.000000</td>\n",
       "      <td>0.380308</td>\n",
       "      <td>0.628386</td>\n",
       "      <td>0.000000</td>\n",
       "      <td>0.602941</td>\n",
       "      <td>0.066576</td>\n",
       "      <td>0.036313</td>\n",
       "      <td>1980</td>\n",
       "    </tr>\n",
       "    <tr>\n",
       "      <th>1</th>\n",
       "      <td>0.103222</td>\n",
       "      <td>0.492863</td>\n",
       "      <td>0.907932</td>\n",
       "      <td>0.162896</td>\n",
       "      <td>0.507137</td>\n",
       "      <td>0.396963</td>\n",
       "      <td>0.148923</td>\n",
       "      <td>0.351390</td>\n",
       "      <td>0.001147</td>\n",
       "      <td>0.602941</td>\n",
       "      <td>0.000000</td>\n",
       "      <td>0.014665</td>\n",
       "      <td>1981</td>\n",
       "    </tr>\n",
       "    <tr>\n",
       "      <th>2</th>\n",
       "      <td>0.100239</td>\n",
       "      <td>0.495242</td>\n",
       "      <td>0.185552</td>\n",
       "      <td>0.180995</td>\n",
       "      <td>0.504758</td>\n",
       "      <td>0.471026</td>\n",
       "      <td>0.235692</td>\n",
       "      <td>0.350307</td>\n",
       "      <td>0.111239</td>\n",
       "      <td>0.602941</td>\n",
       "      <td>0.005819</td>\n",
       "      <td>0.030726</td>\n",
       "      <td>1982</td>\n",
       "    </tr>\n",
       "    <tr>\n",
       "      <th>3</th>\n",
       "      <td>0.131265</td>\n",
       "      <td>0.603489</td>\n",
       "      <td>0.433428</td>\n",
       "      <td>0.126697</td>\n",
       "      <td>0.396511</td>\n",
       "      <td>0.457701</td>\n",
       "      <td>0.185231</td>\n",
       "      <td>0.300831</td>\n",
       "      <td>0.204128</td>\n",
       "      <td>0.602941</td>\n",
       "      <td>0.086874</td>\n",
       "      <td>0.088687</td>\n",
       "      <td>1983</td>\n",
       "    </tr>\n",
       "    <tr>\n",
       "      <th>4</th>\n",
       "      <td>0.000000</td>\n",
       "      <td>0.812450</td>\n",
       "      <td>0.563739</td>\n",
       "      <td>0.140271</td>\n",
       "      <td>0.187550</td>\n",
       "      <td>0.246669</td>\n",
       "      <td>0.105846</td>\n",
       "      <td>0.278801</td>\n",
       "      <td>0.089450</td>\n",
       "      <td>0.274510</td>\n",
       "      <td>0.048309</td>\n",
       "      <td>0.127793</td>\n",
       "      <td>1984</td>\n",
       "    </tr>\n",
       "  </tbody>\n",
       "</table>\n",
       "</div>"
      ],
      "text/plain": [
       "    Exports       FCE       GDP   G_F_C_E  D_Savings  G_Savings   Imports  \\\n",
       "0  0.124702  1.000000  0.000000  0.954751   0.000000   0.000000  0.380308   \n",
       "1  0.103222  0.492863  0.907932  0.162896   0.507137   0.396963  0.148923   \n",
       "2  0.100239  0.495242  0.185552  0.180995   0.504758   0.471026  0.235692   \n",
       "3  0.131265  0.603489  0.433428  0.126697   0.396511   0.457701  0.185231   \n",
       "4  0.000000  0.812450  0.563739  0.140271   0.187550   0.246669  0.105846   \n",
       "\n",
       "   Inflation  Remittances         U   Reserve  Industry  Year  \n",
       "0   0.628386     0.000000  0.602941  0.066576  0.036313  1980  \n",
       "1   0.351390     0.001147  0.602941  0.000000  0.014665  1981  \n",
       "2   0.350307     0.111239  0.602941  0.005819  0.030726  1982  \n",
       "3   0.300831     0.204128  0.602941  0.086874  0.088687  1983  \n",
       "4   0.278801     0.089450  0.274510  0.048309  0.127793  1984  "
      ]
     },
     "execution_count": 8,
     "metadata": {},
     "output_type": "execute_result"
    }
   ],
   "source": [
    "x2=df.Year\n",
    "df=pd.concat([df_norm,x2],axis=1)\n",
    "df.head()"
   ]
  },
  {
   "cell_type": "code",
   "execution_count": 9,
   "id": "c85f1566-1d6f-4ec5-ad72-4ac3d2d012d0",
   "metadata": {},
   "outputs": [
    {
     "data": {
      "text/plain": [
       "(43,)"
      ]
     },
     "execution_count": 9,
     "metadata": {},
     "output_type": "execute_result"
    }
   ],
   "source": [
    "x2.shape"
   ]
  },
  {
   "cell_type": "code",
   "execution_count": 10,
   "id": "56ae6b20-e448-46bb-8f5d-dc7ce1b31074",
   "metadata": {},
   "outputs": [
    {
     "data": {
      "text/plain": [
       "(43, 12)"
      ]
     },
     "execution_count": 10,
     "metadata": {},
     "output_type": "execute_result"
    }
   ],
   "source": [
    "df_norm.shape"
   ]
  },
  {
   "cell_type": "code",
   "execution_count": 113,
   "id": "b14cc657",
   "metadata": {},
   "outputs": [],
   "source": [
    "# from sklearn.preprocessing import MinMaxScaler\n",
    "\n",
    "# scaler = MinMaxScaler()\n",
    "# df_scaled = scaler.fit_transform(df.to_numpy())\n",
    "# df = pd.DataFrame(df_scaled,columns=[\n",
    "#     'Exports', 'FCE', 'GDP', 'G_F_C_E', 'D_Savings', 'G_Savings',\n",
    "#        'Imports', 'Inflation', 'Remittances', 'U', 'Reserve', 'Industry'])\n",
    "# df.head()\n"
   ]
  },
  {
   "cell_type": "code",
   "execution_count": null,
   "id": "c3dd3264-04cd-45f9-9d91-bc518d03d0fe",
   "metadata": {},
   "outputs": [],
   "source": []
  },
  {
   "cell_type": "code",
   "execution_count": null,
   "id": "bbc46cf6-8702-4be4-9daf-b37bfadb689e",
   "metadata": {
    "scrolled": true
   },
   "outputs": [],
   "source": [
    "# x1=df.Year\n",
    "# # x=df.drop(\"GDP\",axis=1)\n",
    "# y=df.GDP"
   ]
  },
  {
   "cell_type": "code",
   "execution_count": null,
   "id": "59ff0846-e933-43a6-b2a3-666b3a1a3e7a",
   "metadata": {},
   "outputs": [],
   "source": [
    "# from sklearn.preprocessing import StandardScaler\n",
    "# std_scaler = StandardScaler()\n",
    "# df=df.drop('Year',axis=1)\n",
    " \n",
    "# df_scaled = std_scaler.fit_transform(df.to_numpy())\n",
    "# df = pd.DataFrame(df_scaled, columns=['Exports', 'FCE', 'GDP', 'G_F_C_E', 'D_Savings', 'G_Savings',\n",
    "#        'Imports', 'Inflation', 'Remittances', 'U', 'Reserve', 'Industry'])\n",
    "      \n",
    " \n",
    "# print(\"Scaled Dataset Using StandardScaler\")\n",
    "# df.head()\n"
   ]
  },
  {
   "cell_type": "code",
   "execution_count": null,
   "id": "69cf6dac-db91-4f31-9504-ba50fa06fd3e",
   "metadata": {
    "scrolled": true
   },
   "outputs": [],
   "source": [
    "# df=round(df,2)\n",
    "# df\n",
    "# df=pd.concat([x1,df],axis=1)"
   ]
  },
  {
   "cell_type": "code",
   "execution_count": 114,
   "id": "f90a7c9a",
   "metadata": {},
   "outputs": [
    {
     "data": {
      "text/plain": [
       "(43, 13)"
      ]
     },
     "execution_count": 114,
     "metadata": {},
     "output_type": "execute_result"
    }
   ],
   "source": [
    "df.shape"
   ]
  },
  {
   "cell_type": "code",
   "execution_count": null,
   "id": "e41a0180-b4b5-4b9e-9b90-2e35337f70d9",
   "metadata": {},
   "outputs": [],
   "source": [
    "# #principal component analysis(pca)\n",
    "# from sklearn.decomposition import PCA\n",
    "# pca=PCA(0.95)\n",
    "# df=pca.fit_transform(df)\n",
    "# df.shape\n",
    "# df.head\n"
   ]
  },
  {
   "cell_type": "code",
   "execution_count": 11,
   "id": "c1ac5cc5",
   "metadata": {},
   "outputs": [
    {
     "data": {
      "text/html": [
       "<div>\n",
       "<style scoped>\n",
       "    .dataframe tbody tr th:only-of-type {\n",
       "        vertical-align: middle;\n",
       "    }\n",
       "\n",
       "    .dataframe tbody tr th {\n",
       "        vertical-align: top;\n",
       "    }\n",
       "\n",
       "    .dataframe thead th {\n",
       "        text-align: right;\n",
       "    }\n",
       "</style>\n",
       "<table border=\"1\" class=\"dataframe\">\n",
       "  <thead>\n",
       "    <tr style=\"text-align: right;\">\n",
       "      <th></th>\n",
       "      <th>Exports</th>\n",
       "      <th>FCE</th>\n",
       "      <th>GDP</th>\n",
       "      <th>G_F_C_E</th>\n",
       "      <th>D_Savings</th>\n",
       "      <th>G_Savings</th>\n",
       "      <th>Imports</th>\n",
       "      <th>Inflation</th>\n",
       "      <th>Remittances</th>\n",
       "      <th>U</th>\n",
       "      <th>Reserve</th>\n",
       "      <th>Industry</th>\n",
       "      <th>Year</th>\n",
       "    </tr>\n",
       "  </thead>\n",
       "  <tbody>\n",
       "    <tr>\n",
       "      <th>Exports</th>\n",
       "      <td>1.000000</td>\n",
       "      <td>-0.656600</td>\n",
       "      <td>0.622348</td>\n",
       "      <td>0.551832</td>\n",
       "      <td>0.656600</td>\n",
       "      <td>0.866409</td>\n",
       "      <td>0.925976</td>\n",
       "      <td>-0.157967</td>\n",
       "      <td>0.901113</td>\n",
       "      <td>0.516602</td>\n",
       "      <td>0.631762</td>\n",
       "      <td>0.506289</td>\n",
       "      <td>0.790233</td>\n",
       "    </tr>\n",
       "    <tr>\n",
       "      <th>FCE</th>\n",
       "      <td>-0.656600</td>\n",
       "      <td>1.000000</td>\n",
       "      <td>-0.685654</td>\n",
       "      <td>-0.613177</td>\n",
       "      <td>-1.000000</td>\n",
       "      <td>-0.883394</td>\n",
       "      <td>-0.475156</td>\n",
       "      <td>0.162893</td>\n",
       "      <td>-0.543367</td>\n",
       "      <td>-0.405353</td>\n",
       "      <td>-0.714242</td>\n",
       "      <td>-0.798536</td>\n",
       "      <td>-0.902927</td>\n",
       "    </tr>\n",
       "    <tr>\n",
       "      <th>GDP</th>\n",
       "      <td>0.622348</td>\n",
       "      <td>-0.685654</td>\n",
       "      <td>1.000000</td>\n",
       "      <td>0.454190</td>\n",
       "      <td>0.685654</td>\n",
       "      <td>0.683719</td>\n",
       "      <td>0.530272</td>\n",
       "      <td>-0.156871</td>\n",
       "      <td>0.497556</td>\n",
       "      <td>0.366894</td>\n",
       "      <td>0.548621</td>\n",
       "      <td>0.613760</td>\n",
       "      <td>0.689809</td>\n",
       "    </tr>\n",
       "    <tr>\n",
       "      <th>G_F_C_E</th>\n",
       "      <td>0.551832</td>\n",
       "      <td>-0.613177</td>\n",
       "      <td>0.454190</td>\n",
       "      <td>1.000000</td>\n",
       "      <td>0.613177</td>\n",
       "      <td>0.556594</td>\n",
       "      <td>0.508379</td>\n",
       "      <td>-0.032324</td>\n",
       "      <td>0.415821</td>\n",
       "      <td>0.500743</td>\n",
       "      <td>0.700437</td>\n",
       "      <td>0.813245</td>\n",
       "      <td>0.773218</td>\n",
       "    </tr>\n",
       "    <tr>\n",
       "      <th>D_Savings</th>\n",
       "      <td>0.656600</td>\n",
       "      <td>-1.000000</td>\n",
       "      <td>0.685654</td>\n",
       "      <td>0.613177</td>\n",
       "      <td>1.000000</td>\n",
       "      <td>0.883394</td>\n",
       "      <td>0.475156</td>\n",
       "      <td>-0.162893</td>\n",
       "      <td>0.543367</td>\n",
       "      <td>0.405353</td>\n",
       "      <td>0.714242</td>\n",
       "      <td>0.798536</td>\n",
       "      <td>0.902927</td>\n",
       "    </tr>\n",
       "    <tr>\n",
       "      <th>G_Savings</th>\n",
       "      <td>0.866409</td>\n",
       "      <td>-0.883394</td>\n",
       "      <td>0.683719</td>\n",
       "      <td>0.556594</td>\n",
       "      <td>0.883394</td>\n",
       "      <td>1.000000</td>\n",
       "      <td>0.760877</td>\n",
       "      <td>-0.158734</td>\n",
       "      <td>0.867513</td>\n",
       "      <td>0.477104</td>\n",
       "      <td>0.759363</td>\n",
       "      <td>0.703212</td>\n",
       "      <td>0.901203</td>\n",
       "    </tr>\n",
       "    <tr>\n",
       "      <th>Imports</th>\n",
       "      <td>0.925976</td>\n",
       "      <td>-0.475156</td>\n",
       "      <td>0.530272</td>\n",
       "      <td>0.508379</td>\n",
       "      <td>0.475156</td>\n",
       "      <td>0.760877</td>\n",
       "      <td>1.000000</td>\n",
       "      <td>-0.042988</td>\n",
       "      <td>0.897937</td>\n",
       "      <td>0.442654</td>\n",
       "      <td>0.576913</td>\n",
       "      <td>0.432776</td>\n",
       "      <td>0.665578</td>\n",
       "    </tr>\n",
       "    <tr>\n",
       "      <th>Inflation</th>\n",
       "      <td>-0.157967</td>\n",
       "      <td>0.162893</td>\n",
       "      <td>-0.156871</td>\n",
       "      <td>-0.032324</td>\n",
       "      <td>-0.162893</td>\n",
       "      <td>-0.158734</td>\n",
       "      <td>-0.042988</td>\n",
       "      <td>1.000000</td>\n",
       "      <td>-0.117729</td>\n",
       "      <td>-0.078587</td>\n",
       "      <td>0.074271</td>\n",
       "      <td>-0.099275</td>\n",
       "      <td>-0.194604</td>\n",
       "    </tr>\n",
       "    <tr>\n",
       "      <th>Remittances</th>\n",
       "      <td>0.901113</td>\n",
       "      <td>-0.543367</td>\n",
       "      <td>0.497556</td>\n",
       "      <td>0.415821</td>\n",
       "      <td>0.543367</td>\n",
       "      <td>0.867513</td>\n",
       "      <td>0.897937</td>\n",
       "      <td>-0.117729</td>\n",
       "      <td>1.000000</td>\n",
       "      <td>0.452117</td>\n",
       "      <td>0.603193</td>\n",
       "      <td>0.421684</td>\n",
       "      <td>0.691105</td>\n",
       "    </tr>\n",
       "    <tr>\n",
       "      <th>U</th>\n",
       "      <td>0.516602</td>\n",
       "      <td>-0.405353</td>\n",
       "      <td>0.366894</td>\n",
       "      <td>0.500743</td>\n",
       "      <td>0.405353</td>\n",
       "      <td>0.477104</td>\n",
       "      <td>0.442654</td>\n",
       "      <td>-0.078587</td>\n",
       "      <td>0.452117</td>\n",
       "      <td>1.000000</td>\n",
       "      <td>0.441474</td>\n",
       "      <td>0.373427</td>\n",
       "      <td>0.466097</td>\n",
       "    </tr>\n",
       "    <tr>\n",
       "      <th>Reserve</th>\n",
       "      <td>0.631762</td>\n",
       "      <td>-0.714242</td>\n",
       "      <td>0.548621</td>\n",
       "      <td>0.700437</td>\n",
       "      <td>0.714242</td>\n",
       "      <td>0.759363</td>\n",
       "      <td>0.576913</td>\n",
       "      <td>0.074271</td>\n",
       "      <td>0.603193</td>\n",
       "      <td>0.441474</td>\n",
       "      <td>1.000000</td>\n",
       "      <td>0.821278</td>\n",
       "      <td>0.826480</td>\n",
       "    </tr>\n",
       "    <tr>\n",
       "      <th>Industry</th>\n",
       "      <td>0.506289</td>\n",
       "      <td>-0.798536</td>\n",
       "      <td>0.613760</td>\n",
       "      <td>0.813245</td>\n",
       "      <td>0.798536</td>\n",
       "      <td>0.703212</td>\n",
       "      <td>0.432776</td>\n",
       "      <td>-0.099275</td>\n",
       "      <td>0.421684</td>\n",
       "      <td>0.373427</td>\n",
       "      <td>0.821278</td>\n",
       "      <td>1.000000</td>\n",
       "      <td>0.896727</td>\n",
       "    </tr>\n",
       "    <tr>\n",
       "      <th>Year</th>\n",
       "      <td>0.790233</td>\n",
       "      <td>-0.902927</td>\n",
       "      <td>0.689809</td>\n",
       "      <td>0.773218</td>\n",
       "      <td>0.902927</td>\n",
       "      <td>0.901203</td>\n",
       "      <td>0.665578</td>\n",
       "      <td>-0.194604</td>\n",
       "      <td>0.691105</td>\n",
       "      <td>0.466097</td>\n",
       "      <td>0.826480</td>\n",
       "      <td>0.896727</td>\n",
       "      <td>1.000000</td>\n",
       "    </tr>\n",
       "  </tbody>\n",
       "</table>\n",
       "</div>"
      ],
      "text/plain": [
       "              Exports       FCE       GDP   G_F_C_E  D_Savings  G_Savings  \\\n",
       "Exports      1.000000 -0.656600  0.622348  0.551832   0.656600   0.866409   \n",
       "FCE         -0.656600  1.000000 -0.685654 -0.613177  -1.000000  -0.883394   \n",
       "GDP          0.622348 -0.685654  1.000000  0.454190   0.685654   0.683719   \n",
       "G_F_C_E      0.551832 -0.613177  0.454190  1.000000   0.613177   0.556594   \n",
       "D_Savings    0.656600 -1.000000  0.685654  0.613177   1.000000   0.883394   \n",
       "G_Savings    0.866409 -0.883394  0.683719  0.556594   0.883394   1.000000   \n",
       "Imports      0.925976 -0.475156  0.530272  0.508379   0.475156   0.760877   \n",
       "Inflation   -0.157967  0.162893 -0.156871 -0.032324  -0.162893  -0.158734   \n",
       "Remittances  0.901113 -0.543367  0.497556  0.415821   0.543367   0.867513   \n",
       "U            0.516602 -0.405353  0.366894  0.500743   0.405353   0.477104   \n",
       "Reserve      0.631762 -0.714242  0.548621  0.700437   0.714242   0.759363   \n",
       "Industry     0.506289 -0.798536  0.613760  0.813245   0.798536   0.703212   \n",
       "Year         0.790233 -0.902927  0.689809  0.773218   0.902927   0.901203   \n",
       "\n",
       "              Imports  Inflation  Remittances         U   Reserve  Industry  \\\n",
       "Exports      0.925976  -0.157967     0.901113  0.516602  0.631762  0.506289   \n",
       "FCE         -0.475156   0.162893    -0.543367 -0.405353 -0.714242 -0.798536   \n",
       "GDP          0.530272  -0.156871     0.497556  0.366894  0.548621  0.613760   \n",
       "G_F_C_E      0.508379  -0.032324     0.415821  0.500743  0.700437  0.813245   \n",
       "D_Savings    0.475156  -0.162893     0.543367  0.405353  0.714242  0.798536   \n",
       "G_Savings    0.760877  -0.158734     0.867513  0.477104  0.759363  0.703212   \n",
       "Imports      1.000000  -0.042988     0.897937  0.442654  0.576913  0.432776   \n",
       "Inflation   -0.042988   1.000000    -0.117729 -0.078587  0.074271 -0.099275   \n",
       "Remittances  0.897937  -0.117729     1.000000  0.452117  0.603193  0.421684   \n",
       "U            0.442654  -0.078587     0.452117  1.000000  0.441474  0.373427   \n",
       "Reserve      0.576913   0.074271     0.603193  0.441474  1.000000  0.821278   \n",
       "Industry     0.432776  -0.099275     0.421684  0.373427  0.821278  1.000000   \n",
       "Year         0.665578  -0.194604     0.691105  0.466097  0.826480  0.896727   \n",
       "\n",
       "                 Year  \n",
       "Exports      0.790233  \n",
       "FCE         -0.902927  \n",
       "GDP          0.689809  \n",
       "G_F_C_E      0.773218  \n",
       "D_Savings    0.902927  \n",
       "G_Savings    0.901203  \n",
       "Imports      0.665578  \n",
       "Inflation   -0.194604  \n",
       "Remittances  0.691105  \n",
       "U            0.466097  \n",
       "Reserve      0.826480  \n",
       "Industry     0.896727  \n",
       "Year         1.000000  "
      ]
     },
     "execution_count": 11,
     "metadata": {},
     "output_type": "execute_result"
    }
   ],
   "source": [
    "cor=df.corr()\n",
    "cor"
   ]
  },
  {
   "cell_type": "code",
   "execution_count": 12,
   "id": "852c6e8e",
   "metadata": {
    "scrolled": true
   },
   "outputs": [
    {
     "data": {
      "text/plain": [
       "<Axes: >"
      ]
     },
     "execution_count": 12,
     "metadata": {},
     "output_type": "execute_result"
    },
    {
     "data": {
      "image/png": "[encoded data removed]",
      "text/plain": [
       "<Figure size 1000x1000 with 2 Axes>"
      ]
     },
     "metadata": {},
     "output_type": "display_data"
    }
   ],
   "source": [
    "#Heatmap\n",
    "plt.figure(figsize=(10,10))\n",
    "           \n",
    "                \n",
    "annot=True\n",
    "hemap=sns.heatmap(cor,vmin=-1,vmax=1,center=0,annot=annot)\n",
    "hemap"
   ]
  },
  {
   "cell_type": "code",
   "execution_count": 117,
   "id": "7bfd3aa1-10e2-4b71-aafa-69c1da86f745",
   "metadata": {},
   "outputs": [],
   "source": [
    "df.to_csv(\"cleanned_data11.csv\")"
   ]
  },
  {
   "cell_type": "code",
   "execution_count": null,
   "id": "d06ca855-aafd-41bc-946a-ed28aca38ffd",
   "metadata": {},
   "outputs": [],
   "source": []
  },
  {
   "cell_type": "code",
   "execution_count": null,
   "id": "cfcd4ae1-e70a-47bd-9d72-798ecc8fd9a4",
   "metadata": {},
   "outputs": [],
   "source": []
  },
  {
   "cell_type": "markdown",
   "id": "0cd72bad",
   "metadata": {},
   "source": []
  },
  {
   "cell_type": "markdown",
   "id": "6b481801",
   "metadata": {},
   "source": [
    "### Multicolinearity checking of the data frame\n"
   ]
  },
  {
   "cell_type": "code",
   "execution_count": null,
   "id": "17c14832",
   "metadata": {},
   "outputs": [],
   "source": [
    "# from patsy import dmatrices\n",
    "# from statsmodels.stats.outliers_influence import variance_inflation_factor\n",
    "# #Desgin matrix\n",
    "\n",
    "# y, X = dmatrices(\"GDP~Exports+FCE+G_F_C_E+D_Savings+G_Savings+Imports+Inflation+Remittances+U+Reserve+FDII+FDIO+Industry\", data=df, return_type='dataframe')\n",
    "\n",
    "# #create DataFrame to hold VIF values\n",
    "# vif_df = pd.DataFrame()\n",
    "# vif_df['variable'] = X.columns \n",
    "\n",
    "# #calculate VIF for each predictor variable \n",
    "# vif_df['VIF'] = [variance_inflation_factor(X.values, i) for i in range(X.shape[1])]\n",
    "\n",
    "# #view VIF for each predictor variable \n",
    "# print(vif_df)\n",
    "  "
   ]
  },
  {
   "cell_type": "markdown",
   "id": "5ba0b9f2",
   "metadata": {},
   "source": [
    "### Multiple linear regression model "
   ]
  },
  {
   "cell_type": "code",
   "execution_count": 13,
   "id": "5dd2066a",
   "metadata": {},
   "outputs": [],
   "source": [
    "from sklearn.metrics import r2_score,mean_squared_error\n",
    "from math import sqrt\n",
    "import numpy as np"
   ]
  },
  {
   "cell_type": "code",
   "execution_count": 14,
   "id": "b054eda5",
   "metadata": {},
   "outputs": [
    {
     "data": {
      "text/plain": [
       "['Exports',\n",
       " 'FCE',\n",
       " 'GDP',\n",
       " 'G_F_C_E',\n",
       " 'D_Savings',\n",
       " 'G_Savings',\n",
       " 'Imports',\n",
       " 'Inflation',\n",
       " 'Remittances',\n",
       " 'U',\n",
       " 'Reserve',\n",
       " 'Industry',\n",
       " 'Year']"
      ]
     },
     "execution_count": 14,
     "metadata": {},
     "output_type": "execute_result"
    }
   ],
   "source": [
    "df.shape\n",
    "list(df.columns)"
   ]
  },
  {
   "cell_type": "code",
   "execution_count": 15,
   "id": "8ab1a74f",
   "metadata": {},
   "outputs": [
    {
     "data": {
      "text/plain": [
       "<Axes: xlabel='FCE', ylabel='GDP'>"
      ]
     },
     "execution_count": 15,
     "metadata": {},
     "output_type": "execute_result"
    },
    {
     "data": {
      "image/png": "[encoded data removed]",
      "text/plain": [
       "<Figure size 640x480 with 3 Axes>"
      ]
     },
     "metadata": {},
     "output_type": "display_data"
    }
   ],
   "source": [
    "fig,axe=plt.subplots(1,3,sharey=True)#scatter plot \n",
    "df.plot(kind=\"scatter\",x=\"U\",y=\"GDP\",ax=axe[0])\n",
    "df.plot(kind='scatter',x='FCE',y='GDP',ax=axe[1])"
   ]
  },
  {
   "cell_type": "code",
   "execution_count": 16,
   "id": "d313f122",
   "metadata": {},
   "outputs": [
    {
     "name": "stderr",
     "output_type": "stream",
     "text": [
      "C:\\Users\\Uaer\\AppData\\Local\\Temp\\ipykernel_6464\\3959204969.py:5: MatplotlibDeprecationWarning: Auto-removal of overlapping axes is deprecated since 3.6 and will be removed two minor releases later; explicitly call ax.remove() as needed.\n",
      "  plt.subplot(5,3,15)\n"
     ]
    },
    {
     "data": {
      "image/png": "[encoded data removed]",
      "text/plain": [
       "<Figure size 1000x800 with 1 Axes>"
      ]
     },
     "metadata": {},
     "output_type": "display_data"
    }
   ],
   "source": [
    "#Scatter plot using the for loop \n",
    "count=0\n",
    "plt.subplots(figsize=(10, 8))\n",
    "for i in df.columns:\n",
    "    plt.subplot(5,3,15)\n",
    "    sns.scatterplot(data=df,x=\"GDP\",y=i)\n",
    "    count+=1\n",
    "\n",
    "plt.show()\n",
    "    "
   ]
  },
  {
   "cell_type": "code",
   "execution_count": null,
   "id": "3fd7147e",
   "metadata": {},
   "outputs": [],
   "source": [
    "#Scatter plot using the for loop \n",
    "# x_col=\"GDP\"\n",
    "# y_columns=['Exports','FCE','G_F_C_E','D_Savings','G_Savings','Imports',\n",
    "#  'Inflation','Remittances','U','Reserve','FDII','FDIO','Industry']\n",
    "\n",
    "# for y_col in y_columns:\n",
    "#     figure=plt.figure\n",
    "#     ax=plt.gca()\n",
    "#     ax.scatter(df[x_col],df[y_col])\n",
    "#     ax.set_xlabel(x_col)\n",
    "#     ax.set_ylabel(y_col)\n",
    "#     ax.set_title(\"{} vs {}\".format(x_col, y_col))\n",
    "# count=1\n",
    "# plt.subplots(figsize=(10, 8))\n",
    "# for i in df.columns:\n",
    "#     plt.subplot(3,2,count)\n",
    "#     sns.scatterplot(df[\"GDP\"],df[i])\n",
    "#     count+=1\n",
    "\n",
    "# plt.show()\n",
    "    "
   ]
  },
  {
   "cell_type": "markdown",
   "id": "c16fe72e",
   "metadata": {},
   "source": [
    "### Multiple linear regression model "
   ]
  },
  {
   "cell_type": "code",
   "execution_count": null,
   "id": "c6e35912",
   "metadata": {},
   "outputs": [],
   "source": [
    "# fig,ax=plt.subplots(2,4,sharey=True)#scatter plot \n",
    "# ax[0,0].scatter(x=df[\"U\"],y=df[\"GDP\"])\n",
    "\n",
    "\n",
    "\"\"\"\n",
    "ax[i,j].scatter(x=df[i], y=df[\"GDP \"])\n",
    "\"\"\""
   ]
  },
  {
   "cell_type": "code",
   "execution_count": null,
   "id": "c229ff77",
   "metadata": {},
   "outputs": [],
   "source": [
    "# featur_cols=['Exports',\"FCE\",\"G_F_C_E\",\"D_Savings\",\"G_Savings\",\"Imports\",\"Inflation\",\"Remittances\",\n",
    "#              \"U\",\"Reserve\",\"FDII\",\"FDIO\",\"Industry\"]\n",
    "# x=df[featur_cols]\n",
    "# y=df.GDP\n",
    "\n",
    "\n",
    "# from sklearn import model_selection \n",
    "# from sklearn.linear_model import LinearRegression\n",
    "# xtrain,xtest,ytrain,ytest=model_selection.train_test_split(x,y,test_size=0.3,random_state=42)\n",
    "\n",
    "\n",
    "\n"
   ]
  },
  {
   "cell_type": "markdown",
   "id": "3379ac97",
   "metadata": {},
   "source": [
    "### Download clean data from worksheet "
   ]
  },
  {
   "cell_type": "code",
   "execution_count": null,
   "id": "1bc815a9",
   "metadata": {},
   "outputs": [],
   "source": [
    "#df.to_csv(\"cleanned_data3.csv\")"
   ]
  },
  {
   "cell_type": "code",
   "execution_count": null,
   "id": "8c3eaf52",
   "metadata": {},
   "outputs": [],
   "source": [
    "from sklearn import model_selection \n",
    "from sklearn.linear_model import LinearRegression\n",
    "lm=LinearRegression()\n",
    "lm.fit(x,y)\n",
    "print(lm.intercept_)\n",
    "print(lm.coef_)\n"
   ]
  },
  {
   "cell_type": "markdown",
   "id": "0c145e2a",
   "metadata": {},
   "source": [
    "### predict four year GDP "
   ]
  },
  {
   "cell_type": "code",
   "execution_count": null,
   "id": "76f4bc11",
   "metadata": {},
   "outputs": [],
   "source": [
    "df_new=pd.DataFrame({\"GDP\":[2023,2024,2025,2026]})\n",
    "df_new"
   ]
  },
  {
   "cell_type": "code",
   "execution_count": null,
   "id": "b9358ce3",
   "metadata": {},
   "outputs": [],
   "source": [
    "# lm.predict(df_new)\n",
    "predicts=lm.predict(xtest)\n",
    "predicts\n"
   ]
  },
  {
   "cell_type": "code",
   "execution_count": null,
   "id": "0b06570d",
   "metadata": {},
   "outputs": [],
   "source": [
    "print(sqrt(mean_squared_error(ytest,predicts)))"
   ]
  },
  {
   "cell_type": "code",
   "execution_count": null,
   "id": "f342a364",
   "metadata": {},
   "outputs": [],
   "source": [
    "import statsmodels.formula.api as smf\n",
    "lm=smf.ols(formula=\"GDP~Exports+FCE+G_F_C_E+D_Savings+G_Savings+Imports+Inflation+Remittances+U+Reserve+FDII+FDIO+Industry\",data=df).fit()\n",
    "lm.conf_int()\n",
    "lm.summary()\n"
   ]
  },
  {
   "cell_type": "code",
   "execution_count": null,
   "id": "0edc63e1",
   "metadata": {},
   "outputs": [],
   "source": [
    "lm=smf.ols(formula=\"GDP~Industry+Reserve\",data=df).fit()\n",
    "lm.rsquared"
   ]
  },
  {
   "cell_type": "markdown",
   "id": "1e90ae8e",
   "metadata": {},
   "source": [
    "### Ridge Regression"
   ]
  },
  {
   "cell_type": "code",
   "execution_count": null,
   "id": "d2d95851",
   "metadata": {},
   "outputs": [],
   "source": [
    "from sklearn.linear_model import Ridge,Lasso"
   ]
  },
  {
   "cell_type": "code",
   "execution_count": null,
   "id": "c0520a03",
   "metadata": {},
   "outputs": [],
   "source": [
    "#Ridge Regression Model\n",
    "ridgeReg = Ridge(alpha=0.001)\n",
    "\n",
    "ridgeReg.fit(xtrain,ytrain)\n",
    "print(sqrt(mean_squared_error(ytrain, ridgeReg.predict(xtrain))))\n",
    "print(sqrt(mean_squared_error(ytest, ridgeReg.predict(xtest))))\n",
    "print('R2 Value/Coefficient of Determination: {}'.format(ridgeReg.score(xtest, ytest)))"
   ]
  },
  {
   "cell_type": "markdown",
   "id": "e520e598",
   "metadata": {},
   "source": [
    "### LASSO REGRESSION"
   ]
  },
  {
   "cell_type": "code",
   "execution_count": null,
   "id": "37d5f425",
   "metadata": {},
   "outputs": [],
   "source": [
    "# from sklearn.linear_model import Lasso\n",
    "# from sklearn.model_selection import RepeatedKFold\n",
    "# lassoreg = Lasso(alpha=.01)\n",
    "# Lasso.fit(xtrain,ytrain)\n",
    "# print(sqrt(mean_squared_error(ytrain, Lasso.predict(xtrain))))\n",
    "# print(sqrt(mean_squared_error(ytest, Lasso.predict(xtest))))\n",
    "# print('R2 Value/Coefficient of Determination: {}'.format(Lasso.score(xtest, ytest)))"
   ]
  },
  {
   "cell_type": "code",
   "execution_count": null,
   "id": "7ffe1ff0-7e02-43cc-b923-2e1c7ff7e111",
   "metadata": {},
   "outputs": [],
   "source": [
    "df.head()"
   ]
  },
  {
   "cell_type": "markdown",
   "id": "8230a546-4386-454f-bcf5-7273131cbb58",
   "metadata": {},
   "source": [
    "# Support vector regression"
   ]
  },
  {
   "cell_type": "code",
   "execution_count": null,
   "id": "6b2dcdb8-6d26-4e3d-bd5f-88e9706eacc7",
   "metadata": {},
   "outputs": [],
   "source": [
    "from sklearn.svm import SVR\n",
    "model_svr=SVR(kernel=\"rbf\")\n",
    "model_svr.fit(xtrain,ytrain)\n"
   ]
  },
  {
   "cell_type": "code",
   "execution_count": null,
   "id": "5911d4b3-c7d2-473a-b7f9-51c147f5e42a",
   "metadata": {},
   "outputs": [],
   "source": [
    "model_svr.score(xtest,ytest)"
   ]
  },
  {
   "cell_type": "code",
   "execution_count": null,
   "id": "e5dcf357-11fc-4661-8c2c-41e070f771c8",
   "metadata": {},
   "outputs": [],
   "source": [
    "y_pred=model_svr.predict(xtest)\n",
    "r2_score(ytest,y_pred)"
   ]
  },
  {
   "cell_type": "code",
   "execution_count": null,
   "id": "d8b3e98c-8947-40a8-9fa5-260e48bd961a",
   "metadata": {},
   "outputs": [],
   "source": []
  },
  {
   "cell_type": "markdown",
   "id": "391349c6-bf24-442e-971c-fa91f5de5465",
   "metadata": {},
   "source": [
    "# Dataframe Merge\n",
    "Neaz"
   ]
  },
  {
   "cell_type": "code",
   "execution_count": null,
   "id": "6ee73ce1-4212-4b20-b295-5959916b1917",
   "metadata": {},
   "outputs": [],
   "source": [
    "df.head()"
   ]
  },
  {
   "cell_type": "code",
   "execution_count": null,
   "id": "f2c399fc-a835-482f-8793-e6d67cf541c1",
   "metadata": {},
   "outputs": [],
   "source": [
    "x1.shape,df.shape"
   ]
  },
  {
   "cell_type": "code",
   "execution_count": null,
   "id": "44822493-b923-4686-9f61-7c5bb6f92bd7",
   "metadata": {},
   "outputs": [],
   "source": [
    "df2 = pd.concat([df,x1],axis=1)"
   ]
  },
  {
   "cell_type": "code",
   "execution_count": null,
   "id": "4ecdf5b8-d993-49e2-9a85-df536f5982cb",
   "metadata": {},
   "outputs": [],
   "source": [
    "df2.head()"
   ]
  },
  {
   "cell_type": "code",
   "execution_count": null,
   "id": "62f820b3-6db0-41ac-8189-07e0f40a081d",
   "metadata": {},
   "outputs": [],
   "source": [
    "df2.shape"
   ]
  },
  {
   "cell_type": "code",
   "execution_count": null,
   "id": "26736be2-edcd-415e-8b85-4e584ceecb4e",
   "metadata": {},
   "outputs": [],
   "source": [
    "X = df.drop(\"GDP\",axis=1)\n",
    "y = df.GDP"
   ]
  },
  {
   "cell_type": "code",
   "execution_count": null,
   "id": "63e31eef-afbb-400b-be2b-825b3f908e06",
   "metadata": {},
   "outputs": [],
   "source": [
    "from sklearn.model_selection import train_test_split \n",
    "X_train,X_test,y_train,y_test=train_test_split(X,y,test_size=0.2)\n"
   ]
  },
  {
   "cell_type": "code",
   "execution_count": null,
   "id": "81d0f605-2404-493c-8323-5d0dfc71d27d",
   "metadata": {},
   "outputs": [],
   "source": [
    "# X_train,X_test = X[:30],X[30:]\n",
    "# y_train,y_test = y[:30],y[30:]"
   ]
  },
  {
   "cell_type": "code",
   "execution_count": null,
   "id": "ffb81418-b5be-489b-8ea6-7ddb263ba339",
   "metadata": {},
   "outputs": [],
   "source": [
    "X_train.shape,y_train.shape"
   ]
  },
  {
   "cell_type": "code",
   "execution_count": null,
   "id": "04ab89a1-9bce-4777-aafd-b5fed37a47d0",
   "metadata": {},
   "outputs": [],
   "source": [
    "from sklearn.svm import SVR\n",
    "model_svr=SVR(kernel=\"rbf\")\n",
    "model_svr.fit(X_train,y_train)\n",
    "\n"
   ]
  },
  {
   "cell_type": "code",
   "execution_count": null,
   "id": "21232a7a-da06-45db-8949-9fe3a78f1b73",
   "metadata": {},
   "outputs": [],
   "source": [
    "model_svr.score(X_test,y_test)"
   ]
  },
  {
   "cell_type": "code",
   "execution_count": null,
   "id": "69eb9b57-c47b-4dc2-a11e-8c08d0e27d6d",
   "metadata": {},
   "outputs": [],
   "source": [
    "from sklearn.metrics import r2_score,mean_squared_error\n",
    "y_pred=model_svr.predict(X_test)\n",
    "print(y_pred[:4])\n",
    "r2_score(y_test,y_pred)"
   ]
  }
 ],
 "metadata": {
  "kernelspec": {
   "display_name": "Python 3 (ipykernel)",
   "language": "python",
   "name": "python3"
  },
  "language_info": {
   "codemirror_mode": {
    "name": "ipython",
    "version": 3
   },
   "file_extension": ".py",
   "mimetype": "text/x-python",
   "name": "python",
   "nbconvert_exporter": "python",
   "pygments_lexer": "ipython3",
   "version": "3.11.5"
  }
 },
 "nbformat": 4,
 "nbformat_minor": 5
}
